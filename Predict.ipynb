{
  "cells": [
    {
      "cell_type": "markdown",
      "metadata": {},
      "source": [
        "## IMPORT ALL NECESSARY LIBRARIES"
      ]
    },
    {
      "cell_type": "code",
      "execution_count": 2,
      "metadata": {},
      "outputs": [],
      "source": [
        "import torch\n",
        "import torchvision\n",
        "from torchvision import transforms\n",
        "from torch.utils.data import DataLoader\n",
        "from torch.utils.data.dataset import Dataset\n",
        "import os\n",
        "import numpy as np\n",
        "import cv2\n",
        "import matplotlib.pyplot as plt\n",
        "import face_recognition\n",
        "from torch import nn\n",
        "from torchvision import models"
      ]
    },
    {
      "cell_type": "markdown",
      "metadata": {},
      "source": [
        "## DEFINE THE CUSTOM MODEL CLASS"
      ]
    },
    {
      "cell_type": "code",
      "execution_count": 3,
      "metadata": {
        "colab": {},
        "colab_type": "code",
        "id": "g1G0IoVy2Pc7"
      },
      "outputs": [],
      "source": [
        "class Model(nn.Module):\n",
        "    def __init__(self, num_classes, latent_dim=2048, lstm_layers=1, hidden_dim=2048, bidirectional=False):\n",
        "        super(Model, self).__init__()\n",
        "\n",
        "        # Load pre-trained ResNeXt50 model and remove the last few layers\n",
        "\n",
        "        model = models.resnext50_32x4d(pretrained=True)\n",
        "        self.model = nn.Sequential(*list(model.children())[:-2])\n",
        "        \n",
        "        # Define an LSTM layer for sequence processing\n",
        "\n",
        "        self.lstm = nn.LSTM(latent_dim, hidden_dim, lstm_layers, bidirectional)\n",
        "        self.relu = nn.LeakyReLU()\n",
        "        self.dp = nn.Dropout(0.4)\n",
        "        self.linear1 = nn.Linear(2048, num_classes)\n",
        "        self.avgpool = nn.AdaptiveAvgPool2d(1)\n",
        "\n",
        "    def forward(self, x):\n",
        "        batch_size, seq_length, c, h, w = x.shape\n",
        "         \n",
        "         # Reshape input for feature extraction\n",
        "\n",
        "        x = x.view(batch_size * seq_length, c, h, w)\n",
        "        fmap = self.model(x)\n",
        "        \n",
        "        # Apply average pooling\n",
        "\n",
        "        x = self.avgpool(fmap)\n",
        "        x = x.view(batch_size, seq_length, 2048)\n",
        "        \n",
        "        # Process sequence with LSTM and apply dropout\n",
        "\n",
        "        x_lstm, _ = self.lstm(x, None)\n",
        "        return fmap, self.dp(self.linear1(x_lstm[:, -1, :]))"
      ]
    },
    {
      "cell_type": "markdown",
      "metadata": {},
      "source": [
        "## IMAGE NORMALIZATION PARAMETERS"
      ]
    },
    {
      "cell_type": "code",
      "execution_count": 4,
      "metadata": {
        "colab": {},
        "colab_type": "code",
        "id": "avpp16KLze7T"
      },
      "outputs": [],
      "source": [
        "im_size = 112\n",
        "mean = [0.485, 0.456, 0.406]\n",
        "std = [0.229, 0.224, 0.225]\n",
        "sm = nn.Softmax()\n",
        "inv_normalize = transforms.Normalize(mean=-1 * np.divide(mean, std), std=np.divide([1, 1, 1], std))\n",
        "\n",
        "def im_convert(tensor):    \n",
        "    # Convert a tensor to an image and save it.\n",
        "    image = tensor.to(\"cpu\").clone().detach()\n",
        "    image = image.squeeze()\n",
        "    image = inv_normalize(image)\n",
        "    image = image.numpy()\n",
        "    image = image.transpose(1, 2, 0)\n",
        "    image = image.clip(0, 1)\n",
        "    cv2.imwrite('./2.png', image * 255)\n",
        "    return image\n",
        "\n",
        "def predict(model, img, path='./'):\n",
        "    # Make a prediction on the given image.\n",
        "    model.eval()  # Ensure the model is in evaluation mode\n",
        "    fmap, logits = model(img.to('cpu'))\n",
        "    params = list(model.parameters())\n",
        "    weight_softmax = model.linear1.weight.detach().cpu().numpy()\n",
        "    logits = sm(logits)\n",
        "    _, prediction = torch.max(logits, 1)\n",
        "    confidence = logits[:, int(prediction.item())].item() * 100\n",
        "    print('confidence of prediction:', confidence)\n",
        "    idx = np.argmax(logits.detach().cpu().numpy())\n",
        "    bz, nc, h, w = fmap.shape\n",
        "    # Generate heatmap for visualization\n",
        "    out = np.dot(fmap[-1].detach().cpu().numpy().reshape((nc, h * w)).T, weight_softmax[idx, :].T)\n",
        "    predict = out.reshape(h, w)\n",
        "    predict = predict - np.min(predict)\n",
        "    predict_img = predict / np.max(predict)\n",
        "    predict_img = np.uint8(255 * predict_img)\n",
        "    out = cv2.resize(predict_img, (im_size, im_size))\n",
        "    heatmap = cv2.applyColorMap(out, cv2.COLORMAP_JET)\n",
        "    img = im_convert(img[:, -1, :, :, :])\n",
        "    # Combine heatmap with original image\n",
        "    result = heatmap * 0.5 + img * 0.8 * 255\n",
        "    cv2.imwrite('/content/1.png', result)\n",
        "    result1 = heatmap * 0.5 / 255 + img * 0.8\n",
        "    r, g, b = cv2.split(result1)\n",
        "    result1 = cv2.merge((r, g, b))\n",
        "    plt.imshow(result1)\n",
        "    plt.show()\n",
        "    return [int(prediction.item()), confidence]"
      ]
    },
    {
      "cell_type": "markdown",
      "metadata": {},
      "source": [
        "## DEFINE A CUSTOM DATASET CLASS FOR VIDEO FRAMES"
      ]
    },
    {
      "cell_type": "code",
      "execution_count": 5,
      "metadata": {
        "colab": {},
        "colab_type": "code",
        "id": "asSbpP8fzlFj"
      },
      "outputs": [],
      "source": [
        "class validation_dataset(Dataset):\n",
        "    def __init__(self, video_names, sequence_length=60, transform=None):\n",
        "        self.video_names = video_names\n",
        "        self.transform = transform\n",
        "        self.count = sequence_length\n",
        "\n",
        "    def __len__(self):\n",
        "        return len(self.video_names)\n",
        "\n",
        "    def __getitem__(self, idx):\n",
        "        video_path = self.video_names[idx]\n",
        "        frames = []\n",
        "        a = int(100 / self.count)\n",
        "        first_frame = np.random.randint(0, a)\n",
        "        for i, frame in enumerate(self.frame_extract(video_path)):\n",
        "            faces = face_recognition.face_locations(frame)\n",
        "            try:\n",
        "                top, right, bottom, left = faces[0]\n",
        "                frame = frame[top:bottom, left:right, :]\n",
        "            except:\n",
        "                pass\n",
        "            frames.append(self.transform(frame))\n",
        "            if len(frames) == self.count:\n",
        "                break\n",
        "        frames = torch.stack(frames)\n",
        "        frames = frames[:self.count]\n",
        "        return frames.unsqueeze(0)\n",
        "\n",
        "    def frame_extract(self, path):\n",
        "        \"\"\"Extract frames from the video.\"\"\"\n",
        "        vidObj = cv2.VideoCapture(path)\n",
        "        success = 1\n",
        "        while success:\n",
        "            success, image = vidObj.read()\n",
        "            if success:\n",
        "                yield image\n",
        "\n",
        "def im_plot(tensor):\n",
        "    \"\"\"Plot a tensor as an image.\"\"\"\n",
        "    image = tensor.cpu().numpy().transpose(1, 2, 0)\n",
        "    b, g, r = cv2.split(image)\n",
        "    image = cv2.merge((r, g, b))\n",
        "    image = image * [0.22803, 0.22145, 0.216989] + [0.43216, 0.394666, 0.37645]\n",
        "    image = image * 255.0\n",
        "    plt.imshow(image.astype(int))\n",
        "    plt.show()\n"
      ]
    },
    {
      "cell_type": "markdown",
      "metadata": {},
      "source": [
        "## IMAGE TRANSFORMATIONS"
      ]
    },
    {
      "cell_type": "code",
      "execution_count": 6,
      "metadata": {
        "colab": {},
        "colab_type": "code",
        "id": "J8YkC-vwzrkE"
      },
      "outputs": [
        {
          "name": "stderr",
          "output_type": "stream",
          "text": [
            "c:\\Users\\sarat\\anaconda3\\envs\\env1\\lib\\site-packages\\torchvision\\models\\_utils.py:208: UserWarning: The parameter 'pretrained' is deprecated since 0.13 and may be removed in the future, please use 'weights' instead.\n",
            "  warnings.warn(\n",
            "c:\\Users\\sarat\\anaconda3\\envs\\env1\\lib\\site-packages\\torchvision\\models\\_utils.py:223: UserWarning: Arguments other than a weight enum or `None` for 'weights' are deprecated since 0.13 and may be removed in the future. The current behavior is equivalent to passing `weights=ResNeXt50_32X4D_Weights.IMAGENET1K_V1`. You can also use `weights=ResNeXt50_32X4D_Weights.DEFAULT` to get the most up-to-date weights.\n",
            "  warnings.warn(msg)\n",
            "C:\\Users\\sarat\\AppData\\Local\\Temp\\ipykernel_36164\\2164963497.py:14: FutureWarning: You are using `torch.load` with `weights_only=False` (the current default value), which uses the default pickle module implicitly. It is possible to construct malicious pickle data which will execute arbitrary code during unpickling (See https://github.com/pytorch/pytorch/blob/main/SECURITY.md#untrusted-models for more details). In a future release, the default value for `weights_only` will be flipped to `True`. This limits the functions that could be executed during unpickling. Arbitrary objects will no longer be allowed to be loaded via this mode unless they are explicitly allowlisted by the user via `torch.serialization.add_safe_globals`. We recommend you start setting `weights_only=True` for any use case where you don't have full control of the loaded file. Please open an issue on GitHub for any issues related to this experimental feature.\n",
            "  model.load_state_dict(torch.load(path_to_model, map_location='cpu'))\n"
          ]
        },
        {
          "name": "stdout",
          "output_type": "stream",
          "text": [
            "t2.mp4\n"
          ]
        },
        {
          "name": "stderr",
          "output_type": "stream",
          "text": [
            "c:\\Users\\sarat\\anaconda3\\envs\\env1\\lib\\site-packages\\torch\\nn\\modules\\module.py:1553: UserWarning: Implicit dimension choice for softmax has been deprecated. Change the call to include dim=X as an argument.\n",
            "  return self._call_impl(*args, **kwargs)\n"
          ]
        },
        {
          "name": "stdout",
          "output_type": "stream",
          "text": [
            "confidence of prediction: 76.04802250862122\n"
          ]
        },
        {
          "data": {
            "image/png": "[encoded data removed]",
            "text/plain": [
              "<Figure size 640x480 with 1 Axes>"
            ]
          },
          "metadata": {},
          "output_type": "display_data"
        },
        {
          "name": "stdout",
          "output_type": "stream",
          "text": [
            "REAL\n"
          ]
        }
      ],
      "source": [
        "train_transforms = transforms.Compose([\n",
        "    transforms.ToPILImage(),\n",
        "    transforms.Resize((im_size, im_size)),\n",
        "    transforms.ToTensor(),\n",
        "    transforms.Normalize(mean, std)\n",
        "])\n",
        "\n",
        "# Load video dataset and model\n",
        "path_to_videos = ['t2.mp4']\n",
        "\n",
        "video_dataset = validation_dataset(path_to_videos, sequence_length=20, transform=train_transforms)\n",
        "model = Model(2).to('cpu')\n",
        "path_to_model = 'model_84_acc_10_frames_final_data.pt'\n",
        "model.load_state_dict(torch.load(path_to_model, map_location='cpu'))\n",
        "model.eval()\n",
        "\n",
        "# Make predictions on the video(s)\n",
        "for i in range(len(path_to_videos)):\n",
        "    print(path_to_videos[i])\n",
        "    prediction = predict(model, video_dataset[i], './')\n",
        "    if prediction[0] == 1:\n",
        "        print(\"REAL\")\n",
        "    else:\n",
        "        print(\"FAKE\")"
      ]
    }
  ],
  "metadata": {
    "accelerator": "GPU",
    "colab": {
      "collapsed_sections": [],
      "name": "Predict.ipynb",
      "provenance": []
    },
    "kernelspec": {
      "display_name": "Python 3",
      "name": "python3"
    },
    "language_info": {
      "codemirror_mode": {
        "name": "ipython",
        "version": 3
      },
      "file_extension": ".py",
      "mimetype": "text/x-python",
      "name": "python",
      "nbconvert_exporter": "python",
      "pygments_lexer": "ipython3",
      "version": "3.8.18"
    }
  },
  "nbformat": 4,
  "nbformat_minor": 0
}
